{
 "cells": [
  {
   "cell_type": "code",
   "execution_count": 2,
   "metadata": {},
   "outputs": [],
   "source": [
    "import requests\n",
    "import pandas as pd\n",
    "import re\n",
    "from bs4 import BeautifulSoup\n",
    "from typing import *"
   ]
  },
  {
   "cell_type": "code",
   "execution_count": 3,
   "metadata": {},
   "outputs": [],
   "source": [
    "from pandas.io.json import json_normalize"
   ]
  },
  {
   "cell_type": "code",
   "execution_count": 4,
   "metadata": {},
   "outputs": [],
   "source": [
    "idealista_data_url = 'https://www.idealista.com/data/'"
   ]
  },
  {
   "cell_type": "code",
   "execution_count": 5,
   "metadata": {},
   "outputs": [],
   "source": [
    "response = requests.get(idealista_data_url)"
   ]
  },
  {
   "cell_type": "code",
   "execution_count": 6,
   "metadata": {},
   "outputs": [],
   "source": [
    "RE_JS_DATA = re.compile(\n",
    "    r'var\\s+home_js_model\\s*=\\s*(?P<data>{.*?});\\s*</script>',\n",
    "    re.DOTALL | re.MULTILINE,\n",
    ")"
   ]
  },
  {
   "cell_type": "code",
   "execution_count": 7,
   "metadata": {},
   "outputs": [],
   "source": [
    "data_string = re.search(RE_JS_DATA, response.text).group('data')"
   ]
  },
  {
   "cell_type": "code",
   "execution_count": 8,
   "metadata": {},
   "outputs": [],
   "source": [
    "data = json.loads(data_string)"
   ]
  },
  {
   "cell_type": "code",
   "execution_count": 9,
   "metadata": {},
   "outputs": [
    {
     "data": {
      "text/plain": [
       "dict_keys(['stock', 'summary', 'prices', 'evolution', 'ranking', 'evolutionXZones', 'province', 'countryInitials', 'nameProvince', 'nameCountry'])"
      ]
     },
     "execution_count": 9,
     "metadata": {},
     "output_type": "execute_result"
    }
   ],
   "source": [
    "data.keys()"
   ]
  },
  {
   "cell_type": "code",
   "execution_count": 10,
   "metadata": {},
   "outputs": [],
   "source": [
    "def write_json(data: dict, filename: str):\n",
    "    with open(filename, 'w') as fp:\n",
    "        json.dump(data, fp, indent=4, ensure_ascii=False)"
   ]
  },
  {
   "cell_type": "code",
   "execution_count": 11,
   "metadata": {},
   "outputs": [],
   "source": [
    "write_json(data, 'idealista_data_raw.json')"
   ]
  },
  {
   "cell_type": "code",
   "execution_count": 24,
   "metadata": {
    "scrolled": false
   },
   "outputs": [
    {
     "data": {
      "text/html": [
       "<div>\n",
       "<style scoped>\n",
       "    .dataframe tbody tr th:only-of-type {\n",
       "        vertical-align: middle;\n",
       "    }\n",
       "\n",
       "    .dataframe tbody tr th {\n",
       "        vertical-align: top;\n",
       "    }\n",
       "\n",
       "    .dataframe thead th {\n",
       "        text-align: right;\n",
       "    }\n",
       "</style>\n",
       "<table border=\"1\" class=\"dataframe\">\n",
       "  <thead>\n",
       "    <tr style=\"text-align: right;\">\n",
       "      <th></th>\n",
       "      <th>index</th>\n",
       "      <th>wkt</th>\n",
       "      <th>province</th>\n",
       "      <th>latitude</th>\n",
       "      <th>longitude</th>\n",
       "      <th>price</th>\n",
       "      <th>priceThreeMTranslations</th>\n",
       "      <th>diferenceTranslations</th>\n",
       "      <th>color</th>\n",
       "      <th>closeDate</th>\n",
       "      <th>chart</th>\n",
       "      <th>province_chart</th>\n",
       "      <th>country_chart</th>\n",
       "    </tr>\n",
       "  </thead>\n",
       "  <tbody>\n",
       "    <tr>\n",
       "      <td>0</td>\n",
       "      <td>0-EU-ES-15</td>\n",
       "      <td>{\"type\":\"MultiPolygon\",\"coordinates\":[[[[-9.30...</td>\n",
       "      <td>A Coruña</td>\n",
       "      <td>43.152465</td>\n",
       "      <td>-8.481585</td>\n",
       "      <td>1,247</td>\n",
       "      <td>{'es': '-0,20%', 'en': '-0.20%', 'it': '-0,20%...</td>\n",
       "      <td>{'es': '-2', 'en': '-2', 'it': '-2', 'pt': '-2'}</td>\n",
       "      <td>#b1d004</td>\n",
       "      <td>31 de Julio</td>\n",
       "      <td>[{'title': 'Días en mercado', 'value': 177}, {...</td>\n",
       "      <td>NaN</td>\n",
       "      <td>NaN</td>\n",
       "    </tr>\n",
       "    <tr>\n",
       "      <td>1</td>\n",
       "      <td>0-EU-IT-AG</td>\n",
       "      <td>{\"type\":\"MultiPolygon\",\"coordinates\":[[[[12.31...</td>\n",
       "      <td>Agrigento</td>\n",
       "      <td>36.617789999999</td>\n",
       "      <td>13.179265</td>\n",
       "      <td>846</td>\n",
       "      <td>{'es': '-3,74%', 'en': '-3.74%', 'it': '-3,74%...</td>\n",
       "      <td>{'es': '-32', 'en': '-32', 'it': '-32', 'pt': ...</td>\n",
       "      <td>#cbe631</td>\n",
       "      <td>31 de Julio</td>\n",
       "      <td>[{'title': 'Días en mercado', 'value': 45636},...</td>\n",
       "      <td>NaN</td>\n",
       "      <td>NaN</td>\n",
       "    </tr>\n",
       "    <tr>\n",
       "      <td>2</td>\n",
       "      <td>0-EU-ES-02</td>\n",
       "      <td>{\"type\":\"MultiPolygon\",\"coordinates\":[[[[-2.88...</td>\n",
       "      <td>Albacete</td>\n",
       "      <td>38.722695</td>\n",
       "      <td>-1.899265</td>\n",
       "      <td>1,042</td>\n",
       "      <td>{'es': '-0,50%', 'en': '-0.50%', 'it': '-0,50%...</td>\n",
       "      <td>{'es': '-5', 'en': '-5', 'it': '-5', 'pt': '-5'}</td>\n",
       "      <td>#cbe631</td>\n",
       "      <td>31 de Julio</td>\n",
       "      <td>[{'title': 'Días en mercado', 'value': 188}, {...</td>\n",
       "      <td>NaN</td>\n",
       "      <td>NaN</td>\n",
       "    </tr>\n",
       "    <tr>\n",
       "      <td>3</td>\n",
       "      <td>0-EU-IT-AL</td>\n",
       "      <td>{\"type\":\"MultiPolygon\",\"coordinates\":[[[[8.109...</td>\n",
       "      <td>Alessandria</td>\n",
       "      <td>44.835174999999</td>\n",
       "      <td>8.6618049999998</td>\n",
       "      <td>839</td>\n",
       "      <td>{'es': '-1,57%', 'en': '-1.57%', 'it': '-1,57%...</td>\n",
       "      <td>{'es': '-13', 'en': '-13', 'it': '-13', 'pt': ...</td>\n",
       "      <td>#cbe631</td>\n",
       "      <td>31 de Julio</td>\n",
       "      <td>[{'title': 'Días en mercado', 'value': 45632},...</td>\n",
       "      <td>NaN</td>\n",
       "      <td>NaN</td>\n",
       "    </tr>\n",
       "    <tr>\n",
       "      <td>4</td>\n",
       "      <td>0-EU-ES-03</td>\n",
       "      <td>{\"type\":\"MultiPolygon\",\"coordinates\":[[[[-1.09...</td>\n",
       "      <td>Alicante</td>\n",
       "      <td>38.365885</td>\n",
       "      <td>-0.427735</td>\n",
       "      <td>1,543</td>\n",
       "      <td>{'es': '+1,78%', 'en': '+1.78%', 'it': '+1,78%...</td>\n",
       "      <td>{'es': '+28', 'en': '+28', 'it': '+28', 'pt': ...</td>\n",
       "      <td>#b1d004</td>\n",
       "      <td>31 de Julio</td>\n",
       "      <td>[{'title': 'Días en mercado', 'value': 127}, {...</td>\n",
       "      <td>NaN</td>\n",
       "      <td>NaN</td>\n",
       "    </tr>\n",
       "  </tbody>\n",
       "</table>\n",
       "</div>"
      ],
      "text/plain": [
       "        index                                                wkt     province  \\\n",
       "0  0-EU-ES-15  {\"type\":\"MultiPolygon\",\"coordinates\":[[[[-9.30...     A Coruña   \n",
       "1  0-EU-IT-AG  {\"type\":\"MultiPolygon\",\"coordinates\":[[[[12.31...    Agrigento   \n",
       "2  0-EU-ES-02  {\"type\":\"MultiPolygon\",\"coordinates\":[[[[-2.88...     Albacete   \n",
       "3  0-EU-IT-AL  {\"type\":\"MultiPolygon\",\"coordinates\":[[[[8.109...  Alessandria   \n",
       "4  0-EU-ES-03  {\"type\":\"MultiPolygon\",\"coordinates\":[[[[-1.09...     Alicante   \n",
       "\n",
       "          latitude        longitude  price  \\\n",
       "0        43.152465        -8.481585  1,247   \n",
       "1  36.617789999999        13.179265    846   \n",
       "2        38.722695        -1.899265  1,042   \n",
       "3  44.835174999999  8.6618049999998    839   \n",
       "4        38.365885        -0.427735  1,543   \n",
       "\n",
       "                             priceThreeMTranslations  \\\n",
       "0  {'es': '-0,20%', 'en': '-0.20%', 'it': '-0,20%...   \n",
       "1  {'es': '-3,74%', 'en': '-3.74%', 'it': '-3,74%...   \n",
       "2  {'es': '-0,50%', 'en': '-0.50%', 'it': '-0,50%...   \n",
       "3  {'es': '-1,57%', 'en': '-1.57%', 'it': '-1,57%...   \n",
       "4  {'es': '+1,78%', 'en': '+1.78%', 'it': '+1,78%...   \n",
       "\n",
       "                               diferenceTranslations    color    closeDate  \\\n",
       "0   {'es': '-2', 'en': '-2', 'it': '-2', 'pt': '-2'}  #b1d004  31 de Julio   \n",
       "1  {'es': '-32', 'en': '-32', 'it': '-32', 'pt': ...  #cbe631  31 de Julio   \n",
       "2   {'es': '-5', 'en': '-5', 'it': '-5', 'pt': '-5'}  #cbe631  31 de Julio   \n",
       "3  {'es': '-13', 'en': '-13', 'it': '-13', 'pt': ...  #cbe631  31 de Julio   \n",
       "4  {'es': '+28', 'en': '+28', 'it': '+28', 'pt': ...  #b1d004  31 de Julio   \n",
       "\n",
       "                                               chart province_chart  \\\n",
       "0  [{'title': 'Días en mercado', 'value': 177}, {...            NaN   \n",
       "1  [{'title': 'Días en mercado', 'value': 45636},...            NaN   \n",
       "2  [{'title': 'Días en mercado', 'value': 188}, {...            NaN   \n",
       "3  [{'title': 'Días en mercado', 'value': 45632},...            NaN   \n",
       "4  [{'title': 'Días en mercado', 'value': 127}, {...            NaN   \n",
       "\n",
       "  country_chart  \n",
       "0           NaN  \n",
       "1           NaN  \n",
       "2           NaN  \n",
       "3           NaN  \n",
       "4           NaN  "
      ]
     },
     "execution_count": 24,
     "metadata": {},
     "output_type": "execute_result"
    }
   ],
   "source": [
    "df_nested = pd.DataFrame.from_dict(data['prices'], orient='index').reset_index()\n",
    "df_nested.head()"
   ]
  },
  {
   "cell_type": "code",
   "execution_count": 25,
   "metadata": {},
   "outputs": [
    {
     "data": {
      "text/plain": [
       "0    ES\n",
       "1    IT\n",
       "2    ES\n",
       "3    IT\n",
       "4    ES\n",
       "Name: index, dtype: object"
      ]
     },
     "execution_count": 25,
     "metadata": {},
     "output_type": "execute_result"
    }
   ],
   "source": [
    "df_nested['index'].apply(lambda x: x.split('-')[2]).head()"
   ]
  },
  {
   "cell_type": "code",
   "execution_count": 16,
   "metadata": {},
   "outputs": [],
   "source": [
    "df_nested['country'] = df_nested['index'].apply(lambda x: x.split('-')[2])"
   ]
  },
  {
   "cell_type": "code",
   "execution_count": 27,
   "metadata": {},
   "outputs": [
    {
     "data": {
      "text/plain": [
       "0    {'type': 'MultiPolygon', 'coordinates': [[[[-9...\n",
       "1    {'type': 'MultiPolygon', 'coordinates': [[[[12...\n",
       "2    {'type': 'MultiPolygon', 'coordinates': [[[[-2...\n",
       "3    {'type': 'MultiPolygon', 'coordinates': [[[[8....\n",
       "4    {'type': 'MultiPolygon', 'coordinates': [[[[-1...\n",
       "Name: wkt, dtype: object"
      ]
     },
     "execution_count": 27,
     "metadata": {},
     "output_type": "execute_result"
    }
   ],
   "source": [
    "df_nested['wkt'].apply(lambda x: json.loads(x)).head()"
   ]
  },
  {
   "cell_type": "code",
   "execution_count": 28,
   "metadata": {
    "scrolled": false
   },
   "outputs": [
    {
     "data": {
      "text/html": [
       "<div>\n",
       "<style scoped>\n",
       "    .dataframe tbody tr th:only-of-type {\n",
       "        vertical-align: middle;\n",
       "    }\n",
       "\n",
       "    .dataframe tbody tr th {\n",
       "        vertical-align: top;\n",
       "    }\n",
       "\n",
       "    .dataframe thead th {\n",
       "        text-align: right;\n",
       "    }\n",
       "</style>\n",
       "<table border=\"1\" class=\"dataframe\">\n",
       "  <thead>\n",
       "    <tr style=\"text-align: right;\">\n",
       "      <th></th>\n",
       "      <th>index</th>\n",
       "      <th>wkt</th>\n",
       "      <th>province</th>\n",
       "      <th>latitude</th>\n",
       "      <th>longitude</th>\n",
       "      <th>price</th>\n",
       "      <th>color</th>\n",
       "      <th>closeDate</th>\n",
       "      <th>chart</th>\n",
       "      <th>province_chart</th>\n",
       "      <th>country_chart</th>\n",
       "    </tr>\n",
       "  </thead>\n",
       "  <tbody>\n",
       "    <tr>\n",
       "      <td>0</td>\n",
       "      <td>0-EU-ES-15</td>\n",
       "      <td>{\"type\":\"MultiPolygon\",\"coordinates\":[[[[-9.30...</td>\n",
       "      <td>A Coruña</td>\n",
       "      <td>43.152465</td>\n",
       "      <td>-8.481585</td>\n",
       "      <td>1,247</td>\n",
       "      <td>#b1d004</td>\n",
       "      <td>31 de Julio</td>\n",
       "      <td>[{'title': 'Días en mercado', 'value': 177}, {...</td>\n",
       "      <td>NaN</td>\n",
       "      <td>NaN</td>\n",
       "    </tr>\n",
       "    <tr>\n",
       "      <td>1</td>\n",
       "      <td>0-EU-IT-AG</td>\n",
       "      <td>{\"type\":\"MultiPolygon\",\"coordinates\":[[[[12.31...</td>\n",
       "      <td>Agrigento</td>\n",
       "      <td>36.617789999999</td>\n",
       "      <td>13.179265</td>\n",
       "      <td>846</td>\n",
       "      <td>#cbe631</td>\n",
       "      <td>31 de Julio</td>\n",
       "      <td>[{'title': 'Días en mercado', 'value': 45636},...</td>\n",
       "      <td>NaN</td>\n",
       "      <td>NaN</td>\n",
       "    </tr>\n",
       "    <tr>\n",
       "      <td>2</td>\n",
       "      <td>0-EU-ES-02</td>\n",
       "      <td>{\"type\":\"MultiPolygon\",\"coordinates\":[[[[-2.88...</td>\n",
       "      <td>Albacete</td>\n",
       "      <td>38.722695</td>\n",
       "      <td>-1.899265</td>\n",
       "      <td>1,042</td>\n",
       "      <td>#cbe631</td>\n",
       "      <td>31 de Julio</td>\n",
       "      <td>[{'title': 'Días en mercado', 'value': 188}, {...</td>\n",
       "      <td>NaN</td>\n",
       "      <td>NaN</td>\n",
       "    </tr>\n",
       "    <tr>\n",
       "      <td>3</td>\n",
       "      <td>0-EU-IT-AL</td>\n",
       "      <td>{\"type\":\"MultiPolygon\",\"coordinates\":[[[[8.109...</td>\n",
       "      <td>Alessandria</td>\n",
       "      <td>44.835174999999</td>\n",
       "      <td>8.6618049999998</td>\n",
       "      <td>839</td>\n",
       "      <td>#cbe631</td>\n",
       "      <td>31 de Julio</td>\n",
       "      <td>[{'title': 'Días en mercado', 'value': 45632},...</td>\n",
       "      <td>NaN</td>\n",
       "      <td>NaN</td>\n",
       "    </tr>\n",
       "    <tr>\n",
       "      <td>4</td>\n",
       "      <td>0-EU-ES-03</td>\n",
       "      <td>{\"type\":\"MultiPolygon\",\"coordinates\":[[[[-1.09...</td>\n",
       "      <td>Alicante</td>\n",
       "      <td>38.365885</td>\n",
       "      <td>-0.427735</td>\n",
       "      <td>1,543</td>\n",
       "      <td>#b1d004</td>\n",
       "      <td>31 de Julio</td>\n",
       "      <td>[{'title': 'Días en mercado', 'value': 127}, {...</td>\n",
       "      <td>NaN</td>\n",
       "      <td>NaN</td>\n",
       "    </tr>\n",
       "  </tbody>\n",
       "</table>\n",
       "</div>"
      ],
      "text/plain": [
       "        index                                                wkt     province  \\\n",
       "0  0-EU-ES-15  {\"type\":\"MultiPolygon\",\"coordinates\":[[[[-9.30...     A Coruña   \n",
       "1  0-EU-IT-AG  {\"type\":\"MultiPolygon\",\"coordinates\":[[[[12.31...    Agrigento   \n",
       "2  0-EU-ES-02  {\"type\":\"MultiPolygon\",\"coordinates\":[[[[-2.88...     Albacete   \n",
       "3  0-EU-IT-AL  {\"type\":\"MultiPolygon\",\"coordinates\":[[[[8.109...  Alessandria   \n",
       "4  0-EU-ES-03  {\"type\":\"MultiPolygon\",\"coordinates\":[[[[-1.09...     Alicante   \n",
       "\n",
       "          latitude        longitude  price    color    closeDate  \\\n",
       "0        43.152465        -8.481585  1,247  #b1d004  31 de Julio   \n",
       "1  36.617789999999        13.179265    846  #cbe631  31 de Julio   \n",
       "2        38.722695        -1.899265  1,042  #cbe631  31 de Julio   \n",
       "3  44.835174999999  8.6618049999998    839  #cbe631  31 de Julio   \n",
       "4        38.365885        -0.427735  1,543  #b1d004  31 de Julio   \n",
       "\n",
       "                                               chart province_chart  \\\n",
       "0  [{'title': 'Días en mercado', 'value': 177}, {...            NaN   \n",
       "1  [{'title': 'Días en mercado', 'value': 45636},...            NaN   \n",
       "2  [{'title': 'Días en mercado', 'value': 188}, {...            NaN   \n",
       "3  [{'title': 'Días en mercado', 'value': 45632},...            NaN   \n",
       "4  [{'title': 'Días en mercado', 'value': 127}, {...            NaN   \n",
       "\n",
       "  country_chart  \n",
       "0           NaN  \n",
       "1           NaN  \n",
       "2           NaN  \n",
       "3           NaN  \n",
       "4           NaN  "
      ]
     },
     "execution_count": 28,
     "metadata": {},
     "output_type": "execute_result"
    }
   ],
   "source": [
    "# df_nested.drop(['wkt'], axis=1, inplace=True)\n",
    "# df_nested['wkt'] = df_nested['wkt'].apply(lambda x: json.loads(x)) # it's a string\n",
    "df_nested.drop(['priceThreeMTranslations', 'diferenceTranslations'], axis=1, inplace=True)\n",
    "df_nested.dropna(subset=['chart'], inplace=True)\n",
    "df_nested.head()"
   ]
  },
  {
   "cell_type": "code",
   "execution_count": 29,
   "metadata": {
    "scrolled": true
   },
   "outputs": [
    {
     "data": {
      "text/html": [
       "<div>\n",
       "<style scoped>\n",
       "    .dataframe tbody tr th:only-of-type {\n",
       "        vertical-align: middle;\n",
       "    }\n",
       "\n",
       "    .dataframe tbody tr th {\n",
       "        vertical-align: top;\n",
       "    }\n",
       "\n",
       "    .dataframe thead th {\n",
       "        text-align: right;\n",
       "    }\n",
       "</style>\n",
       "<table border=\"1\" class=\"dataframe\">\n",
       "  <thead>\n",
       "    <tr style=\"text-align: right;\">\n",
       "      <th></th>\n",
       "      <th>index</th>\n",
       "      <th>wkt</th>\n",
       "      <th>province</th>\n",
       "      <th>latitude</th>\n",
       "      <th>longitude</th>\n",
       "      <th>price</th>\n",
       "      <th>color</th>\n",
       "      <th>closeDate</th>\n",
       "      <th>chart</th>\n",
       "      <th>province_chart</th>\n",
       "      <th>country_chart</th>\n",
       "      <th>Days on the market</th>\n",
       "      <th>Gross Yield</th>\n",
       "      <th>Turnover Rate</th>\n",
       "    </tr>\n",
       "  </thead>\n",
       "  <tbody>\n",
       "    <tr>\n",
       "      <td>0</td>\n",
       "      <td>0-EU-ES-15</td>\n",
       "      <td>{\"type\":\"MultiPolygon\",\"coordinates\":[[[[-9.30...</td>\n",
       "      <td>A Coruña</td>\n",
       "      <td>43.152465</td>\n",
       "      <td>-8.481585</td>\n",
       "      <td>1,247</td>\n",
       "      <td>#b1d004</td>\n",
       "      <td>31 de Julio</td>\n",
       "      <td>[{'title': 'Días en mercado', 'value': 177}, {...</td>\n",
       "      <td>NaN</td>\n",
       "      <td>NaN</td>\n",
       "      <td>177</td>\n",
       "      <td>4.46</td>\n",
       "      <td>3.34</td>\n",
       "    </tr>\n",
       "    <tr>\n",
       "      <td>1</td>\n",
       "      <td>0-EU-IT-AG</td>\n",
       "      <td>{\"type\":\"MultiPolygon\",\"coordinates\":[[[[12.31...</td>\n",
       "      <td>Agrigento</td>\n",
       "      <td>36.617789999999</td>\n",
       "      <td>13.179265</td>\n",
       "      <td>846</td>\n",
       "      <td>#cbe631</td>\n",
       "      <td>31 de Julio</td>\n",
       "      <td>[{'title': 'Días en mercado', 'value': 45636},...</td>\n",
       "      <td>NaN</td>\n",
       "      <td>NaN</td>\n",
       "      <td>45636</td>\n",
       "      <td>5.74</td>\n",
       "      <td>3.08</td>\n",
       "    </tr>\n",
       "    <tr>\n",
       "      <td>2</td>\n",
       "      <td>0-EU-ES-02</td>\n",
       "      <td>{\"type\":\"MultiPolygon\",\"coordinates\":[[[[-2.88...</td>\n",
       "      <td>Albacete</td>\n",
       "      <td>38.722695</td>\n",
       "      <td>-1.899265</td>\n",
       "      <td>1,042</td>\n",
       "      <td>#cbe631</td>\n",
       "      <td>31 de Julio</td>\n",
       "      <td>[{'title': 'Días en mercado', 'value': 188}, {...</td>\n",
       "      <td>NaN</td>\n",
       "      <td>NaN</td>\n",
       "      <td>188</td>\n",
       "      <td>5.17</td>\n",
       "      <td>2.08</td>\n",
       "    </tr>\n",
       "    <tr>\n",
       "      <td>3</td>\n",
       "      <td>0-EU-IT-AL</td>\n",
       "      <td>{\"type\":\"MultiPolygon\",\"coordinates\":[[[[8.109...</td>\n",
       "      <td>Alessandria</td>\n",
       "      <td>44.835174999999</td>\n",
       "      <td>8.6618049999998</td>\n",
       "      <td>839</td>\n",
       "      <td>#cbe631</td>\n",
       "      <td>31 de Julio</td>\n",
       "      <td>[{'title': 'Días en mercado', 'value': 45632},...</td>\n",
       "      <td>NaN</td>\n",
       "      <td>NaN</td>\n",
       "      <td>45632</td>\n",
       "      <td>4.94</td>\n",
       "      <td>4.57</td>\n",
       "    </tr>\n",
       "    <tr>\n",
       "      <td>4</td>\n",
       "      <td>0-EU-ES-03</td>\n",
       "      <td>{\"type\":\"MultiPolygon\",\"coordinates\":[[[[-1.09...</td>\n",
       "      <td>Alicante</td>\n",
       "      <td>38.365885</td>\n",
       "      <td>-0.427735</td>\n",
       "      <td>1,543</td>\n",
       "      <td>#b1d004</td>\n",
       "      <td>31 de Julio</td>\n",
       "      <td>[{'title': 'Días en mercado', 'value': 127}, {...</td>\n",
       "      <td>NaN</td>\n",
       "      <td>NaN</td>\n",
       "      <td>127</td>\n",
       "      <td>5.63</td>\n",
       "      <td>4.26</td>\n",
       "    </tr>\n",
       "  </tbody>\n",
       "</table>\n",
       "</div>"
      ],
      "text/plain": [
       "        index                                                wkt     province  \\\n",
       "0  0-EU-ES-15  {\"type\":\"MultiPolygon\",\"coordinates\":[[[[-9.30...     A Coruña   \n",
       "1  0-EU-IT-AG  {\"type\":\"MultiPolygon\",\"coordinates\":[[[[12.31...    Agrigento   \n",
       "2  0-EU-ES-02  {\"type\":\"MultiPolygon\",\"coordinates\":[[[[-2.88...     Albacete   \n",
       "3  0-EU-IT-AL  {\"type\":\"MultiPolygon\",\"coordinates\":[[[[8.109...  Alessandria   \n",
       "4  0-EU-ES-03  {\"type\":\"MultiPolygon\",\"coordinates\":[[[[-1.09...     Alicante   \n",
       "\n",
       "          latitude        longitude  price    color    closeDate  \\\n",
       "0        43.152465        -8.481585  1,247  #b1d004  31 de Julio   \n",
       "1  36.617789999999        13.179265    846  #cbe631  31 de Julio   \n",
       "2        38.722695        -1.899265  1,042  #cbe631  31 de Julio   \n",
       "3  44.835174999999  8.6618049999998    839  #cbe631  31 de Julio   \n",
       "4        38.365885        -0.427735  1,543  #b1d004  31 de Julio   \n",
       "\n",
       "                                               chart province_chart  \\\n",
       "0  [{'title': 'Días en mercado', 'value': 177}, {...            NaN   \n",
       "1  [{'title': 'Días en mercado', 'value': 45636},...            NaN   \n",
       "2  [{'title': 'Días en mercado', 'value': 188}, {...            NaN   \n",
       "3  [{'title': 'Días en mercado', 'value': 45632},...            NaN   \n",
       "4  [{'title': 'Días en mercado', 'value': 127}, {...            NaN   \n",
       "\n",
       "  country_chart  Days on the market  Gross Yield  Turnover Rate  \n",
       "0           NaN                 177         4.46           3.34  \n",
       "1           NaN               45636         5.74           3.08  \n",
       "2           NaN                 188         5.17           2.08  \n",
       "3           NaN               45632         4.94           4.57  \n",
       "4           NaN                 127         5.63           4.26  "
      ]
     },
     "execution_count": 29,
     "metadata": {},
     "output_type": "execute_result"
    }
   ],
   "source": [
    "df_nested['Days on the market'] = df_nested.chart.apply(lambda x: x[0]['value'])\n",
    "df_nested['Gross Yield'] = df_nested.chart.apply(lambda x: float(x[1]['value'].replace('%', '')))\n",
    "df_nested['Turnover Rate'] = df_nested.chart.apply(lambda x: float(x[2]['value'].replace('%', '')))\n",
    "df_nested.head()"
   ]
  },
  {
   "cell_type": "code",
   "execution_count": 20,
   "metadata": {
    "scrolled": true
   },
   "outputs": [],
   "source": [
    "data_1 = df_nested.to_dict(orient='records', )\n",
    "# data_1"
   ]
  },
  {
   "cell_type": "code",
   "execution_count": 30,
   "metadata": {
    "scrolled": true
   },
   "outputs": [
    {
     "data": {
      "text/html": [
       "<div>\n",
       "<style scoped>\n",
       "    .dataframe tbody tr th:only-of-type {\n",
       "        vertical-align: middle;\n",
       "    }\n",
       "\n",
       "    .dataframe tbody tr th {\n",
       "        vertical-align: top;\n",
       "    }\n",
       "\n",
       "    .dataframe thead th {\n",
       "        text-align: right;\n",
       "    }\n",
       "</style>\n",
       "<table border=\"1\" class=\"dataframe\">\n",
       "  <thead>\n",
       "    <tr style=\"text-align: right;\">\n",
       "      <th></th>\n",
       "      <th>index</th>\n",
       "      <th>wkt</th>\n",
       "      <th>province</th>\n",
       "      <th>latitude</th>\n",
       "      <th>longitude</th>\n",
       "      <th>price</th>\n",
       "      <th>color</th>\n",
       "      <th>closeDate</th>\n",
       "      <th>chart</th>\n",
       "      <th>province_chart</th>\n",
       "      <th>country_chart</th>\n",
       "      <th>country</th>\n",
       "      <th>Days on the market</th>\n",
       "      <th>Gross Yield</th>\n",
       "      <th>Turnover Rate</th>\n",
       "      <th>province_chart.labels</th>\n",
       "      <th>province_chart.series</th>\n",
       "      <th>country_chart.labels</th>\n",
       "      <th>country_chart.series</th>\n",
       "    </tr>\n",
       "  </thead>\n",
       "  <tbody>\n",
       "    <tr>\n",
       "      <td>0</td>\n",
       "      <td>0-EU-ES-15</td>\n",
       "      <td>{\"type\":\"MultiPolygon\",\"coordinates\":[[[[-9.30...</td>\n",
       "      <td>A Coruña</td>\n",
       "      <td>43.152465</td>\n",
       "      <td>-8.481585</td>\n",
       "      <td>1,247</td>\n",
       "      <td>#b1d004</td>\n",
       "      <td>31 de Julio</td>\n",
       "      <td>[{'title': 'Días en mercado', 'value': 177}, {...</td>\n",
       "      <td>NaN</td>\n",
       "      <td>NaN</td>\n",
       "      <td>ES</td>\n",
       "      <td>177</td>\n",
       "      <td>4.46</td>\n",
       "      <td>3.34</td>\n",
       "      <td>NaN</td>\n",
       "      <td>NaN</td>\n",
       "      <td>NaN</td>\n",
       "      <td>NaN</td>\n",
       "    </tr>\n",
       "    <tr>\n",
       "      <td>1</td>\n",
       "      <td>0-EU-IT-AG</td>\n",
       "      <td>{\"type\":\"MultiPolygon\",\"coordinates\":[[[[12.31...</td>\n",
       "      <td>Agrigento</td>\n",
       "      <td>36.617789999999</td>\n",
       "      <td>13.179265</td>\n",
       "      <td>846</td>\n",
       "      <td>#cbe631</td>\n",
       "      <td>31 de Julio</td>\n",
       "      <td>[{'title': 'Días en mercado', 'value': 45636},...</td>\n",
       "      <td>NaN</td>\n",
       "      <td>NaN</td>\n",
       "      <td>IT</td>\n",
       "      <td>45636</td>\n",
       "      <td>5.74</td>\n",
       "      <td>3.08</td>\n",
       "      <td>NaN</td>\n",
       "      <td>NaN</td>\n",
       "      <td>NaN</td>\n",
       "      <td>NaN</td>\n",
       "    </tr>\n",
       "    <tr>\n",
       "      <td>2</td>\n",
       "      <td>0-EU-ES-02</td>\n",
       "      <td>{\"type\":\"MultiPolygon\",\"coordinates\":[[[[-2.88...</td>\n",
       "      <td>Albacete</td>\n",
       "      <td>38.722695</td>\n",
       "      <td>-1.899265</td>\n",
       "      <td>1,042</td>\n",
       "      <td>#cbe631</td>\n",
       "      <td>31 de Julio</td>\n",
       "      <td>[{'title': 'Días en mercado', 'value': 188}, {...</td>\n",
       "      <td>NaN</td>\n",
       "      <td>NaN</td>\n",
       "      <td>ES</td>\n",
       "      <td>188</td>\n",
       "      <td>5.17</td>\n",
       "      <td>2.08</td>\n",
       "      <td>NaN</td>\n",
       "      <td>NaN</td>\n",
       "      <td>NaN</td>\n",
       "      <td>NaN</td>\n",
       "    </tr>\n",
       "    <tr>\n",
       "      <td>3</td>\n",
       "      <td>0-EU-IT-AL</td>\n",
       "      <td>{\"type\":\"MultiPolygon\",\"coordinates\":[[[[8.109...</td>\n",
       "      <td>Alessandria</td>\n",
       "      <td>44.835174999999</td>\n",
       "      <td>8.6618049999998</td>\n",
       "      <td>839</td>\n",
       "      <td>#cbe631</td>\n",
       "      <td>31 de Julio</td>\n",
       "      <td>[{'title': 'Días en mercado', 'value': 45632},...</td>\n",
       "      <td>NaN</td>\n",
       "      <td>NaN</td>\n",
       "      <td>IT</td>\n",
       "      <td>45632</td>\n",
       "      <td>4.94</td>\n",
       "      <td>4.57</td>\n",
       "      <td>NaN</td>\n",
       "      <td>NaN</td>\n",
       "      <td>NaN</td>\n",
       "      <td>NaN</td>\n",
       "    </tr>\n",
       "    <tr>\n",
       "      <td>4</td>\n",
       "      <td>0-EU-ES-03</td>\n",
       "      <td>{\"type\":\"MultiPolygon\",\"coordinates\":[[[[-1.09...</td>\n",
       "      <td>Alicante</td>\n",
       "      <td>38.365885</td>\n",
       "      <td>-0.427735</td>\n",
       "      <td>1,543</td>\n",
       "      <td>#b1d004</td>\n",
       "      <td>31 de Julio</td>\n",
       "      <td>[{'title': 'Días en mercado', 'value': 127}, {...</td>\n",
       "      <td>NaN</td>\n",
       "      <td>NaN</td>\n",
       "      <td>ES</td>\n",
       "      <td>127</td>\n",
       "      <td>5.63</td>\n",
       "      <td>4.26</td>\n",
       "      <td>NaN</td>\n",
       "      <td>NaN</td>\n",
       "      <td>NaN</td>\n",
       "      <td>NaN</td>\n",
       "    </tr>\n",
       "  </tbody>\n",
       "</table>\n",
       "</div>"
      ],
      "text/plain": [
       "        index                                                wkt     province  \\\n",
       "0  0-EU-ES-15  {\"type\":\"MultiPolygon\",\"coordinates\":[[[[-9.30...     A Coruña   \n",
       "1  0-EU-IT-AG  {\"type\":\"MultiPolygon\",\"coordinates\":[[[[12.31...    Agrigento   \n",
       "2  0-EU-ES-02  {\"type\":\"MultiPolygon\",\"coordinates\":[[[[-2.88...     Albacete   \n",
       "3  0-EU-IT-AL  {\"type\":\"MultiPolygon\",\"coordinates\":[[[[8.109...  Alessandria   \n",
       "4  0-EU-ES-03  {\"type\":\"MultiPolygon\",\"coordinates\":[[[[-1.09...     Alicante   \n",
       "\n",
       "          latitude        longitude  price    color    closeDate  \\\n",
       "0        43.152465        -8.481585  1,247  #b1d004  31 de Julio   \n",
       "1  36.617789999999        13.179265    846  #cbe631  31 de Julio   \n",
       "2        38.722695        -1.899265  1,042  #cbe631  31 de Julio   \n",
       "3  44.835174999999  8.6618049999998    839  #cbe631  31 de Julio   \n",
       "4        38.365885        -0.427735  1,543  #b1d004  31 de Julio   \n",
       "\n",
       "                                               chart  province_chart  \\\n",
       "0  [{'title': 'Días en mercado', 'value': 177}, {...             NaN   \n",
       "1  [{'title': 'Días en mercado', 'value': 45636},...             NaN   \n",
       "2  [{'title': 'Días en mercado', 'value': 188}, {...             NaN   \n",
       "3  [{'title': 'Días en mercado', 'value': 45632},...             NaN   \n",
       "4  [{'title': 'Días en mercado', 'value': 127}, {...             NaN   \n",
       "\n",
       "   country_chart country  Days on the market  Gross Yield  Turnover Rate  \\\n",
       "0            NaN      ES                 177         4.46           3.34   \n",
       "1            NaN      IT               45636         5.74           3.08   \n",
       "2            NaN      ES                 188         5.17           2.08   \n",
       "3            NaN      IT               45632         4.94           4.57   \n",
       "4            NaN      ES                 127         5.63           4.26   \n",
       "\n",
       "  province_chart.labels province_chart.series country_chart.labels  \\\n",
       "0                   NaN                   NaN                  NaN   \n",
       "1                   NaN                   NaN                  NaN   \n",
       "2                   NaN                   NaN                  NaN   \n",
       "3                   NaN                   NaN                  NaN   \n",
       "4                   NaN                   NaN                  NaN   \n",
       "\n",
       "  country_chart.series  \n",
       "0                  NaN  \n",
       "1                  NaN  \n",
       "2                  NaN  \n",
       "3                  NaN  \n",
       "4                  NaN  "
      ]
     },
     "execution_count": 30,
     "metadata": {},
     "output_type": "execute_result"
    }
   ],
   "source": [
    "final_df = json_normalize(data_1)\n",
    "final_df.head()"
   ]
  },
  {
   "cell_type": "code",
   "execution_count": 31,
   "metadata": {},
   "outputs": [
    {
     "data": {
      "text/html": [
       "<div>\n",
       "<style scoped>\n",
       "    .dataframe tbody tr th:only-of-type {\n",
       "        vertical-align: middle;\n",
       "    }\n",
       "\n",
       "    .dataframe tbody tr th {\n",
       "        vertical-align: top;\n",
       "    }\n",
       "\n",
       "    .dataframe thead th {\n",
       "        text-align: right;\n",
       "    }\n",
       "</style>\n",
       "<table border=\"1\" class=\"dataframe\">\n",
       "  <thead>\n",
       "    <tr style=\"text-align: right;\">\n",
       "      <th></th>\n",
       "      <th>wkt</th>\n",
       "      <th>country</th>\n",
       "      <th>province</th>\n",
       "      <th>Days on the market</th>\n",
       "      <th>Gross Yield</th>\n",
       "      <th>Turnover Rate</th>\n",
       "    </tr>\n",
       "  </thead>\n",
       "  <tbody>\n",
       "    <tr>\n",
       "      <td>0</td>\n",
       "      <td>{\"type\":\"MultiPolygon\",\"coordinates\":[[[[-9.30...</td>\n",
       "      <td>ES</td>\n",
       "      <td>A Coruña</td>\n",
       "      <td>177</td>\n",
       "      <td>4.46</td>\n",
       "      <td>3.34</td>\n",
       "    </tr>\n",
       "    <tr>\n",
       "      <td>1</td>\n",
       "      <td>{\"type\":\"MultiPolygon\",\"coordinates\":[[[[12.31...</td>\n",
       "      <td>IT</td>\n",
       "      <td>Agrigento</td>\n",
       "      <td>45636</td>\n",
       "      <td>5.74</td>\n",
       "      <td>3.08</td>\n",
       "    </tr>\n",
       "    <tr>\n",
       "      <td>2</td>\n",
       "      <td>{\"type\":\"MultiPolygon\",\"coordinates\":[[[[-2.88...</td>\n",
       "      <td>ES</td>\n",
       "      <td>Albacete</td>\n",
       "      <td>188</td>\n",
       "      <td>5.17</td>\n",
       "      <td>2.08</td>\n",
       "    </tr>\n",
       "    <tr>\n",
       "      <td>3</td>\n",
       "      <td>{\"type\":\"MultiPolygon\",\"coordinates\":[[[[8.109...</td>\n",
       "      <td>IT</td>\n",
       "      <td>Alessandria</td>\n",
       "      <td>45632</td>\n",
       "      <td>4.94</td>\n",
       "      <td>4.57</td>\n",
       "    </tr>\n",
       "    <tr>\n",
       "      <td>4</td>\n",
       "      <td>{\"type\":\"MultiPolygon\",\"coordinates\":[[[[-1.09...</td>\n",
       "      <td>ES</td>\n",
       "      <td>Alicante</td>\n",
       "      <td>127</td>\n",
       "      <td>5.63</td>\n",
       "      <td>4.26</td>\n",
       "    </tr>\n",
       "  </tbody>\n",
       "</table>\n",
       "</div>"
      ],
      "text/plain": [
       "                                                 wkt country     province  \\\n",
       "0  {\"type\":\"MultiPolygon\",\"coordinates\":[[[[-9.30...      ES     A Coruña   \n",
       "1  {\"type\":\"MultiPolygon\",\"coordinates\":[[[[12.31...      IT    Agrigento   \n",
       "2  {\"type\":\"MultiPolygon\",\"coordinates\":[[[[-2.88...      ES     Albacete   \n",
       "3  {\"type\":\"MultiPolygon\",\"coordinates\":[[[[8.109...      IT  Alessandria   \n",
       "4  {\"type\":\"MultiPolygon\",\"coordinates\":[[[[-1.09...      ES     Alicante   \n",
       "\n",
       "   Days on the market  Gross Yield  Turnover Rate  \n",
       "0                 177         4.46           3.34  \n",
       "1               45636         5.74           3.08  \n",
       "2                 188         5.17           2.08  \n",
       "3               45632         4.94           4.57  \n",
       "4                 127         5.63           4.26  "
      ]
     },
     "execution_count": 31,
     "metadata": {},
     "output_type": "execute_result"
    }
   ],
   "source": [
    "columns_to_keep = ['wkt', 'country', 'province', 'Days on the market', 'Gross Yield', 'Turnover Rate']\n",
    "final_df = final_df[columns_to_keep]\n",
    "final_df.head()"
   ]
  },
  {
   "cell_type": "code",
   "execution_count": 23,
   "metadata": {},
   "outputs": [],
   "source": [
    "final_df.to_csv('idealista_basic_data.csv')"
   ]
  },
  {
   "cell_type": "markdown",
   "metadata": {},
   "source": [
    "# Add country to carto SQL"
   ]
  },
  {
   "cell_type": "code",
   "execution_count": null,
   "metadata": {},
   "outputs": [],
   "source": [
    "# forgot to add it and added it later to try to improve geocoding for failed regions"
   ]
  },
  {
   "cell_type": "code",
   "execution_count": 35,
   "metadata": {},
   "outputs": [],
   "source": [
    "sql_statement_template = \"\"\"\n",
    "UPDATE idealista_basic_data \n",
    "SET country = '${country}' \n",
    "WHERE province = '${province}';\n",
    "\"\"\""
   ]
  },
  {
   "cell_type": "code",
   "execution_count": 36,
   "metadata": {},
   "outputs": [],
   "source": [
    "from string import Template"
   ]
  },
  {
   "cell_type": "code",
   "execution_count": 37,
   "metadata": {},
   "outputs": [],
   "source": [
    "s = Template(sql_statement_template)"
   ]
  },
  {
   "cell_type": "code",
   "execution_count": 38,
   "metadata": {},
   "outputs": [
    {
     "name": "stdout",
     "output_type": "stream",
     "text": [
      "\n",
      "UPDATE idealista_basic_data \n",
      "SET country = 'ES' \n",
      "WHERE province = 'Almeria';\n",
      "\n"
     ]
    }
   ],
   "source": [
    "print(s.substitute(country='ES', province='Almeria'))"
   ]
  },
  {
   "cell_type": "code",
   "execution_count": 39,
   "metadata": {},
   "outputs": [
    {
     "data": {
      "text/plain": [
       "0    ES\n",
       "1    IT\n",
       "2    ES\n",
       "3    IT\n",
       "4    ES\n",
       "Name: country, dtype: object"
      ]
     },
     "execution_count": 39,
     "metadata": {},
     "output_type": "execute_result"
    }
   ],
   "source": [
    "final_df.country.head()"
   ]
  },
  {
   "cell_type": "code",
   "execution_count": 40,
   "metadata": {
    "scrolled": true
   },
   "outputs": [],
   "source": [
    "with open('sql_country.txt', 'w') as f:\n",
    "    f.writelines(final_df.apply(lambda x: s.substitute(country=x.country,\n",
    "                                                       province=x.province.replace(\"'\", \"''\")),\n",
    "                                axis=1))"
   ]
  },
  {
   "cell_type": "markdown",
   "metadata": {},
   "source": [
    "# Add geom to carto SQL"
   ]
  },
  {
   "cell_type": "code",
   "execution_count": 181,
   "metadata": {},
   "outputs": [],
   "source": [
    "sql_statement_template = \"\"\"\n",
    "UPDATE idealista_basic_data \n",
    "SET the_geom = '${wkt}' \n",
    "WHERE province = '${province}';\n",
    "\"\"\""
   ]
  },
  {
   "cell_type": "code",
   "execution_count": 182,
   "metadata": {},
   "outputs": [],
   "source": [
    "from string import Template"
   ]
  },
  {
   "cell_type": "code",
   "execution_count": 183,
   "metadata": {},
   "outputs": [],
   "source": [
    "s = Template(sql_statement_template)"
   ]
  },
  {
   "cell_type": "code",
   "execution_count": 33,
   "metadata": {},
   "outputs": [
    {
     "data": {
      "text/plain": [
       "0    {\"type\":\"MultiPolygon\",\"coordinates\":[[[[-9.30...\n",
       "1    {\"type\":\"MultiPolygon\",\"coordinates\":[[[[12.31...\n",
       "2    {\"type\":\"MultiPolygon\",\"coordinates\":[[[[-2.88...\n",
       "3    {\"type\":\"MultiPolygon\",\"coordinates\":[[[[8.109...\n",
       "4    {\"type\":\"MultiPolygon\",\"coordinates\":[[[[-1.09...\n",
       "Name: wkt, dtype: object"
      ]
     },
     "execution_count": 33,
     "metadata": {},
     "output_type": "execute_result"
    }
   ],
   "source": [
    "final_df.wkt.head()"
   ]
  },
  {
   "cell_type": "code",
   "execution_count": 194,
   "metadata": {},
   "outputs": [],
   "source": [
    "with open('sql_geo.txt', 'w') as f:\n",
    "    f.writelines(final_df.apply(lambda x: s.substitute(\n",
    "        wkt=x.wkt,\n",
    "        province=x.province.replace(\"'\", \"''\")),\n",
    "                                axis=1))"
   ]
  },
  {
   "cell_type": "code",
   "execution_count": 201,
   "metadata": {},
   "outputs": [
    {
     "data": {
      "text/html": [
       "<div>\n",
       "<style scoped>\n",
       "    .dataframe tbody tr th:only-of-type {\n",
       "        vertical-align: middle;\n",
       "    }\n",
       "\n",
       "    .dataframe tbody tr th {\n",
       "        vertical-align: top;\n",
       "    }\n",
       "\n",
       "    .dataframe thead th {\n",
       "        text-align: right;\n",
       "    }\n",
       "</style>\n",
       "<table border=\"1\" class=\"dataframe\">\n",
       "  <thead>\n",
       "    <tr style=\"text-align: right;\">\n",
       "      <th></th>\n",
       "      <th>wkt</th>\n",
       "      <th>country</th>\n",
       "      <th>province</th>\n",
       "      <th>Days on the market</th>\n",
       "      <th>Gross Yield</th>\n",
       "      <th>Turnover Rate</th>\n",
       "    </tr>\n",
       "  </thead>\n",
       "  <tbody>\n",
       "    <tr>\n",
       "      <td>0</td>\n",
       "      <td>{\"type\":\"MultiPolygon\",\"coordinates\":[[[[-9.30...</td>\n",
       "      <td>ES</td>\n",
       "      <td>A Coruña</td>\n",
       "      <td>177</td>\n",
       "      <td>4.46</td>\n",
       "      <td>3.34</td>\n",
       "    </tr>\n",
       "    <tr>\n",
       "      <td>1</td>\n",
       "      <td>{\"type\":\"MultiPolygon\",\"coordinates\":[[[[12.31...</td>\n",
       "      <td>IT</td>\n",
       "      <td>Agrigento</td>\n",
       "      <td>45636</td>\n",
       "      <td>5.74</td>\n",
       "      <td>3.08</td>\n",
       "    </tr>\n",
       "    <tr>\n",
       "      <td>2</td>\n",
       "      <td>{\"type\":\"MultiPolygon\",\"coordinates\":[[[[-2.88...</td>\n",
       "      <td>ES</td>\n",
       "      <td>Albacete</td>\n",
       "      <td>188</td>\n",
       "      <td>5.17</td>\n",
       "      <td>2.08</td>\n",
       "    </tr>\n",
       "    <tr>\n",
       "      <td>3</td>\n",
       "      <td>{\"type\":\"MultiPolygon\",\"coordinates\":[[[[8.109...</td>\n",
       "      <td>IT</td>\n",
       "      <td>Alessandria</td>\n",
       "      <td>45632</td>\n",
       "      <td>4.94</td>\n",
       "      <td>4.57</td>\n",
       "    </tr>\n",
       "    <tr>\n",
       "      <td>4</td>\n",
       "      <td>{\"type\":\"MultiPolygon\",\"coordinates\":[[[[-1.09...</td>\n",
       "      <td>ES</td>\n",
       "      <td>Alicante</td>\n",
       "      <td>127</td>\n",
       "      <td>5.63</td>\n",
       "      <td>4.26</td>\n",
       "    </tr>\n",
       "  </tbody>\n",
       "</table>\n",
       "</div>"
      ],
      "text/plain": [
       "                                                 wkt country     province  \\\n",
       "0  {\"type\":\"MultiPolygon\",\"coordinates\":[[[[-9.30...      ES     A Coruña   \n",
       "1  {\"type\":\"MultiPolygon\",\"coordinates\":[[[[12.31...      IT    Agrigento   \n",
       "2  {\"type\":\"MultiPolygon\",\"coordinates\":[[[[-2.88...      ES     Albacete   \n",
       "3  {\"type\":\"MultiPolygon\",\"coordinates\":[[[[8.109...      IT  Alessandria   \n",
       "4  {\"type\":\"MultiPolygon\",\"coordinates\":[[[[-1.09...      ES     Alicante   \n",
       "\n",
       "   Days on the market  Gross Yield  Turnover Rate  \n",
       "0                 177         4.46           3.34  \n",
       "1               45636         5.74           3.08  \n",
       "2                 188         5.17           2.08  \n",
       "3               45632         4.94           4.57  \n",
       "4                 127         5.63           4.26  "
      ]
     },
     "execution_count": 201,
     "metadata": {},
     "output_type": "execute_result"
    }
   ],
   "source": [
    "final_df.head()"
   ]
  },
  {
   "cell_type": "code",
   "execution_count": null,
   "metadata": {},
   "outputs": [],
   "source": []
  }
 ],
 "metadata": {
  "kernelspec": {
   "display_name": "Python 3",
   "language": "python",
   "name": "python3"
  },
  "language_info": {
   "codemirror_mode": {
    "name": "ipython",
    "version": 3
   },
   "file_extension": ".py",
   "mimetype": "text/x-python",
   "name": "python",
   "nbconvert_exporter": "python",
   "pygments_lexer": "ipython3",
   "version": "3.7.4"
  },
  "toc": {
   "base_numbering": 1,
   "nav_menu": {},
   "number_sections": true,
   "sideBar": true,
   "skip_h1_title": false,
   "title_cell": "Table of Contents",
   "title_sidebar": "Contents",
   "toc_cell": false,
   "toc_position": {},
   "toc_section_display": true,
   "toc_window_display": false
  }
 },
 "nbformat": 4,
 "nbformat_minor": 2
}
